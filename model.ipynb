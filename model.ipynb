{
 "cells": [
  {
   "cell_type": "code",
   "execution_count": null,
   "id": "f94b611a",
   "metadata": {},
   "outputs": [],
   "source": [
    "ggnnnnnjhhhhhyuttytr665655555"
   ]
  }
 ],
 "metadata": {
  "kernelspec": {
   "display_name": "env_1-",
   "language": "python",
   "name": "python3"
  },
  "language_info": {
   "name": "python",
   "version": "3.13.3"
  }
 },
 "nbformat": 4,
 "nbformat_minor": 5
}
